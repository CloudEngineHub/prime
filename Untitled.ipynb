{
 "cells": [
  {
   "cell_type": "code",
   "execution_count": 1,
   "id": "16162412-07fe-4614-8adf-bbce5213381e",
   "metadata": {},
   "outputs": [],
   "source": [
    "import torch"
   ]
  },
  {
   "cell_type": "code",
   "execution_count": 2,
   "id": "14974ac0-b458-4071-846d-de1fa8bc322d",
   "metadata": {},
   "outputs": [],
   "source": [
    "model = torch.nn.Linear(10,10)"
   ]
  },
  {
   "cell_type": "code",
   "execution_count": 4,
   "id": "10d7b702-f513-4465-95f4-d82a78a600a3",
   "metadata": {},
   "outputs": [],
   "source": [
    "optimizer = torch.optim.AdamW(model.parameters(), lr=3e-4)"
   ]
  },
  {
   "cell_type": "code",
   "execution_count": 11,
   "id": "ff201b8f-9601-49ac-8cc0-ebecc987beb3",
   "metadata": {},
   "outputs": [
    {
     "name": "stdout",
     "output_type": "stream",
     "text": [
      "Parameter group 0 - Learning rate: 0.0003\n",
      "Parameter group 0:\n",
      "  lr: 0.0003\n",
      "  betas: (0.9, 0.999)\n",
      "  eps: 1e-08\n",
      "  weight_decay: 0.01\n",
      "  amsgrad: False\n",
      "  foreach: None\n",
      "  maximize: False\n",
      "  capturable: False\n",
      "  differentiable: False\n",
      "  fused: None\n"
     ]
    }
   ],
   "source": [
    "for i, param_group in enumerate(optimizer.param_groups):\n",
    "    print(f\"Parameter group {i} - Learning rate: {param_group['lr']}\")\n",
    "\n",
    "# You can also access other parameters in the group\n",
    "for i, param_group in enumerate(optimizer.param_groups):\n",
    "    print(f\"Parameter group {i}:\")\n",
    "    for key, value in param_group.items():\n",
    "        if key != 'params':  # 'params' contains the actual parameters, which can be large\n",
    "            print(f\"  {key}: {value}\")"
   ]
  },
  {
   "cell_type": "code",
   "execution_count": 40,
   "id": "70b9595d-9b70-4ca2-8c9d-7c1199dde9e1",
   "metadata": {},
   "outputs": [],
   "source": [
    "for param in model.parameters():\n",
    "    param.grad = torch.zeros_like(param.data)"
   ]
  },
  {
   "cell_type": "code",
   "execution_count": 41,
   "id": "db535334-8410-4679-a360-858961b4f9b6",
   "metadata": {},
   "outputs": [],
   "source": [
    "optimizer.step()"
   ]
  },
  {
   "cell_type": "code",
   "execution_count": 42,
   "id": "8bd975bd-ff5f-403b-8eb0-efb5863c175e",
   "metadata": {},
   "outputs": [
    {
     "data": {
      "text/plain": [
       "{'state': {0: {},\n",
       "  1: {'step': tensor(4.),\n",
       "   'exp_avg': tensor([0., 0., 0., 0., 0., 0., 0., 0., 0., 0.]),\n",
       "   'exp_avg_sq': tensor([0., 0., 0., 0., 0., 0., 0., 0., 0., 0.])},\n",
       "  'exp_avg': {}},\n",
       " 'param_groups': [{'lr': 0.0003,\n",
       "   'betas': (0.9, 0.999),\n",
       "   'eps': 1e-08,\n",
       "   'weight_decay': 0.01,\n",
       "   'amsgrad': False,\n",
       "   'foreach': None,\n",
       "   'maximize': False,\n",
       "   'capturable': False,\n",
       "   'differentiable': False,\n",
       "   'fused': None,\n",
       "   'params': [0, 1]}]}"
      ]
     },
     "execution_count": 42,
     "metadata": {},
     "output_type": "execute_result"
    }
   ],
   "source": [
    "optimizer.state_dict()"
   ]
  },
  {
   "cell_type": "code",
   "execution_count": 43,
   "id": "b860e02e-28bc-4f28-8389-cf5811b810b1",
   "metadata": {},
   "outputs": [
    {
     "data": {
      "text/plain": [
       "{'step': tensor(4.),\n",
       " 'exp_avg': tensor([0., 0., 0., 0., 0., 0., 0., 0., 0., 0.]),\n",
       " 'exp_avg_sq': tensor([0., 0., 0., 0., 0., 0., 0., 0., 0., 0.])}"
      ]
     },
     "execution_count": 43,
     "metadata": {},
     "output_type": "execute_result"
    }
   ],
   "source": [
    "optimizer.state_dict()[\"state\"][1]"
   ]
  },
  {
   "cell_type": "code",
   "execution_count": 11,
   "id": "eaa7e2ff-9cce-4cc1-9d6d-c4d174f48bfa",
   "metadata": {},
   "outputs": [
    {
     "name": "stdout",
     "output_type": "stream",
     "text": [
      "None\n",
      "None\n"
     ]
    }
   ],
   "source": [
    "for param in model.parameters():\n",
    "    print(param.grad)"
   ]
  },
  {
   "cell_type": "code",
   "execution_count": 6,
   "id": "cc3c9891-e366-4da5-bd49-a1d478ccf55a",
   "metadata": {},
   "outputs": [],
   "source": [
    "for group in optimizer.param_groups:\n",
    "        for p in group['params']:\n",
    "            if p in optimizer.state:\n",
    "                state = optimizer.state[p]\n",
    "                for key in state.keys():\n",
    "                    if isinstance(state[key], torch.Tensor):\n",
    "                        if len(state[key].shape) > 0:\n",
    "                            print(state[key])\n",
    "\n"
   ]
  },
  {
   "cell_type": "code",
   "execution_count": 30,
   "id": "191f21ec-716c-4aa1-a793-f50051f69e7c",
   "metadata": {},
   "outputs": [
    {
     "data": {
      "text/plain": [
       "defaultdict(dict,\n",
       "            {Parameter containing:\n",
       "             tensor([[ 0.1021,  0.0910,  0.1408, -0.2074, -0.1237, -0.2544, -0.1337, -0.1640,\n",
       "                      -0.1172, -0.1363],\n",
       "                     [-0.1155,  0.2771, -0.0961, -0.0273,  0.3130, -0.3101,  0.2602,  0.0411,\n",
       "                      -0.2881,  0.0130],\n",
       "                     [ 0.0227,  0.2323, -0.2736,  0.1435, -0.2899,  0.2383, -0.1404, -0.2195,\n",
       "                       0.0586,  0.2862],\n",
       "                     [ 0.2874, -0.2965,  0.0697, -0.2093,  0.0060, -0.0424, -0.0791,  0.2112,\n",
       "                       0.0867, -0.1114],\n",
       "                     [ 0.0301, -0.0120, -0.1898,  0.1556,  0.0601,  0.1962,  0.3156,  0.0670,\n",
       "                       0.1052,  0.2738],\n",
       "                     [ 0.1460, -0.2103, -0.1670,  0.1049,  0.0219,  0.1577,  0.0340,  0.0508,\n",
       "                       0.1014,  0.0072],\n",
       "                     [-0.1853, -0.1883,  0.0700,  0.0458, -0.0770, -0.2163, -0.2868,  0.1927,\n",
       "                       0.2244, -0.2375],\n",
       "                     [-0.0098, -0.1873,  0.1854,  0.1111,  0.0072, -0.0917, -0.2912, -0.2889,\n",
       "                       0.1628,  0.2608],\n",
       "                     [-0.2986, -0.0780, -0.0337,  0.0376,  0.0216,  0.2592,  0.1398, -0.2615,\n",
       "                      -0.0795,  0.1702],\n",
       "                     [-0.0176,  0.0534,  0.2083, -0.1686, -0.1138, -0.0816, -0.0742,  0.1301,\n",
       "                       0.0635,  0.2048]], requires_grad=True): {'step': tensor(1.),\n",
       "              'exp_avg': tensor([[0., 0., 0., 0., 0., 0., 0., 0., 0., 0.],\n",
       "                      [0., 0., 0., 0., 0., 0., 0., 0., 0., 0.],\n",
       "                      [0., 0., 0., 0., 0., 0., 0., 0., 0., 0.],\n",
       "                      [0., 0., 0., 0., 0., 0., 0., 0., 0., 0.],\n",
       "                      [0., 0., 0., 0., 0., 0., 0., 0., 0., 0.],\n",
       "                      [0., 0., 0., 0., 0., 0., 0., 0., 0., 0.],\n",
       "                      [0., 0., 0., 0., 0., 0., 0., 0., 0., 0.],\n",
       "                      [0., 0., 0., 0., 0., 0., 0., 0., 0., 0.],\n",
       "                      [0., 0., 0., 0., 0., 0., 0., 0., 0., 0.],\n",
       "                      [0., 0., 0., 0., 0., 0., 0., 0., 0., 0.]]),\n",
       "              'exp_avg_sq': tensor([[0., 0., 0., 0., 0., 0., 0., 0., 0., 0.],\n",
       "                      [0., 0., 0., 0., 0., 0., 0., 0., 0., 0.],\n",
       "                      [0., 0., 0., 0., 0., 0., 0., 0., 0., 0.],\n",
       "                      [0., 0., 0., 0., 0., 0., 0., 0., 0., 0.],\n",
       "                      [0., 0., 0., 0., 0., 0., 0., 0., 0., 0.],\n",
       "                      [0., 0., 0., 0., 0., 0., 0., 0., 0., 0.],\n",
       "                      [0., 0., 0., 0., 0., 0., 0., 0., 0., 0.],\n",
       "                      [0., 0., 0., 0., 0., 0., 0., 0., 0., 0.],\n",
       "                      [0., 0., 0., 0., 0., 0., 0., 0., 0., 0.],\n",
       "                      [0., 0., 0., 0., 0., 0., 0., 0., 0., 0.]])},\n",
       "             Parameter containing:\n",
       "             tensor([-0.2318, -0.0331,  0.2184, -0.1331,  0.2618, -0.1965, -0.1560,  0.2359,\n",
       "                      0.2495, -0.2367], requires_grad=True): {'step': tensor(1.),\n",
       "              'exp_avg': tensor([0., 0., 0., 0., 0., 0., 0., 0., 0., 0.]),\n",
       "              'exp_avg_sq': tensor([0., 0., 0., 0., 0., 0., 0., 0., 0., 0.])},\n",
       "             0: {},\n",
       "             'exp_avg': {}})"
      ]
     },
     "execution_count": 30,
     "metadata": {},
     "output_type": "execute_result"
    }
   ],
   "source": [
    "optimizer.state"
   ]
  },
  {
   "cell_type": "code",
   "execution_count": 29,
   "id": "8a776974-540a-46dc-9431-7ce3c33b9855",
   "metadata": {},
   "outputs": [
    {
     "data": {
      "text/plain": [
       "{}"
      ]
     },
     "execution_count": 29,
     "metadata": {},
     "output_type": "execute_result"
    }
   ],
   "source": [
    "optimizer.state[\"exp_avg\"]"
   ]
  },
  {
   "cell_type": "code",
   "execution_count": null,
   "id": "a9fed5ef-8d8e-4bd8-bfda-8415b4f67d2a",
   "metadata": {},
   "outputs": [],
   "source": []
  }
 ],
 "metadata": {
  "kernelspec": {
   "display_name": "Python 3 (ipykernel)",
   "language": "python",
   "name": "python3"
  },
  "language_info": {
   "codemirror_mode": {
    "name": "ipython",
    "version": 3
   },
   "file_extension": ".py",
   "mimetype": "text/x-python",
   "name": "python",
   "nbconvert_exporter": "python",
   "pygments_lexer": "ipython3",
   "version": "3.10.13"
  }
 },
 "nbformat": 4,
 "nbformat_minor": 5
}
